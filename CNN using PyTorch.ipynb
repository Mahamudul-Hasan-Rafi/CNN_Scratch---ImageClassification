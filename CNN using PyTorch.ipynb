{
 "cells": [
  {
   "cell_type": "code",
   "execution_count": 71,
   "metadata": {},
   "outputs": [],
   "source": [
    "import torch\n",
    "import glob\n",
    "from torch.utils.data import DataLoader\n",
    "import torchvision\n",
    "from torchvision.transforms import transforms\n",
    "import torch.nn as nn\n",
    "from torch.optim import Adam"
   ]
  },
  {
   "cell_type": "code",
   "execution_count": 42,
   "metadata": {},
   "outputs": [
    {
     "data": {
      "text/plain": [
       "device(type='cpu')"
      ]
     },
     "execution_count": 42,
     "metadata": {},
     "output_type": "execute_result"
    }
   ],
   "source": [
    "device=torch.device('cuda' if torch.cuda.is_available() else 'cpu')\n",
    "device"
   ]
  },
  {
   "cell_type": "code",
   "execution_count": 50,
   "metadata": {},
   "outputs": [],
   "source": [
    "train_path='C:/Users/My LeNoVo/Jupyter Notebook Codes/seg_train/seg_train'\n",
    "test_path='C:/Users/My LeNoVo/Jupyter Notebook Codes/seg_test/seg_test'"
   ]
  },
  {
   "cell_type": "code",
   "execution_count": 51,
   "metadata": {},
   "outputs": [],
   "source": [
    "transformer=transforms.Compose([\n",
    "    transforms.Resize((150,150)),\n",
    "    transforms.RandomHorizontalFlip(),\n",
    "    transforms.ToTensor(),\n",
    "    transforms.Normalize([0.5,0.5,0.5],[0.5,0.5,0.5])\n",
    "])"
   ]
  },
  {
   "cell_type": "code",
   "execution_count": 53,
   "metadata": {},
   "outputs": [],
   "source": [
    "train_loader=DataLoader(torchvision.datasets.ImageFolder(train_path,transform=transformer),batch_size=256,shuffle=True)\n",
    "test_loader=DataLoader(torchvision.datasets.ImageFolder(test_path,transform=transformer),batch_size=256,shuffle=False)"
   ]
  },
  {
   "cell_type": "code",
   "execution_count": 65,
   "metadata": {},
   "outputs": [
    {
     "data": {
      "text/plain": [
       "False"
      ]
     },
     "execution_count": 65,
     "metadata": {},
     "output_type": "execute_result"
    }
   ],
   "source": [
    "torch.cuda.is_available()"
   ]
  },
  {
   "cell_type": "code",
   "execution_count": 74,
   "metadata": {},
   "outputs": [],
   "source": [
    "classes=['buildings','forest','glacier','mountain','sea','street']"
   ]
  },
  {
   "cell_type": "code",
   "execution_count": 69,
   "metadata": {},
   "outputs": [],
   "source": [
    "#CNN Network\n",
    "class ConvNet(nn.Module):\n",
    "    def __init__(self):\n",
    "        \n",
    "        super(ConvNet,self).__init__()\n",
    "        \n",
    "        #Shape=(256,3,150,150)\n",
    "        \n",
    "        self.conv1=nn.Conv2d(in_channels=3,out_channels=12,kernel_size=3,stride=1,padding=1)\n",
    "        #Shape=(256,12,150,150)\n",
    "        \n",
    "        self.bn1 = nn.BatchNorm2d(num_features=12)\n",
    "        #Shape=(256,12,150,150)\n",
    "        \n",
    "        self.relu1=nn.ReLU()\n",
    "        #Shape=(256,12,150,150)\n",
    "        \n",
    "        self.pool1=nn.MaxPool2d(kernel_size=2)\n",
    "        #Shape=(256,12,75,75)\n",
    "        \n",
    "        \n",
    "        \n",
    "        self.conv2 = nn.Conv2d(in_channels=12,out_channels=24,kernel_size=3,stride=1,padding=1)\n",
    "        #Shape=(256,24,75,75)\n",
    "        \n",
    "        self.bn2=nn.BatchNorm2d(num_features=24)\n",
    "        #Shape=(256,24,75,75)\n",
    "        \n",
    "        self.relu2=nn.ReLU()\n",
    "        #Shape=(256,24,75,75)\n",
    "        \n",
    "        \n",
    "        \n",
    "        \n",
    "        self.conv3=nn.Conv2d(in_channels=24,out_channels=32,kernel_size=3,stride=1,padding=1)\n",
    "        #Shape=(256,32,75,75)\n",
    "        \n",
    "        self.bn3=nn.BatchNorm2d(num_features=32)\n",
    "        #Shape=(256,32,75,150)\n",
    "        \n",
    "        self.relu3=nn.ReLU()\n",
    "        #Shape=(256,32,75,75)\n",
    "        \n",
    "        self.pool3=nn.MaxPool2d(kernel_size=3)\n",
    "        #Shape=(256,32,25,25)\n",
    "        \n",
    "        \n",
    "        \n",
    "        self.fc=nn.Linear(in_features=32*25*25, out_features=6)\n",
    "        \n",
    "    \n",
    "    def forward(self,input):\n",
    "        output=self.conv1(input)\n",
    "        output=self.bn1(output)\n",
    "        output=self.relu1(output)\n",
    "        output=self.pool1(output)\n",
    "        \n",
    "        output=self.conv2(output)\n",
    "        output=self.bn2(output)\n",
    "        output=self.relu2(output)\n",
    "        \n",
    "        output=self.conv3(output)\n",
    "        output=self.bn3(output)\n",
    "        output=self.relu3(output)\n",
    "        output=self.pool3(output)\n",
    "        \n",
    "        output=output.view(-1,32*25*25)\n",
    "        output=self.fc(output)\n",
    "        \n",
    "        return output\n",
    "        "
   ]
  },
  {
   "cell_type": "code",
   "execution_count": 70,
   "metadata": {},
   "outputs": [],
   "source": [
    "model=ConvNet().to(device)"
   ]
  },
  {
   "cell_type": "code",
   "execution_count": 73,
   "metadata": {},
   "outputs": [],
   "source": [
    "optimizer=Adam(model.parameters(),lr=0.001,weight_decay=0.0001)\n",
    "loss_func=nn.CrossEntropyLoss()"
   ]
  },
  {
   "cell_type": "code",
   "execution_count": 77,
   "metadata": {},
   "outputs": [],
   "source": [
    "train_count=len(glob.glob('C:/Users/My LeNoVo/Jupyter Notebook Codes/seg_train/seg_train/**/*.jpg'))\n",
    "test_count=len(glob.glob('C:/Users/My LeNoVo/Jupyter Notebook Codes/seg_test/seg_test/**/*.jpg'))"
   ]
  },
  {
   "cell_type": "code",
   "execution_count": 78,
   "metadata": {},
   "outputs": [
    {
     "name": "stdout",
     "output_type": "stream",
     "text": [
      "Epoch  1:   Train_accuracy:   0.49123557075673363     Test_accuracy:   0.5896666666666667\n",
      "Epoch  2:   Train_accuracy:   0.639162035057717     Test_accuracy:   0.6506666666666666\n"
     ]
    }
   ],
   "source": [
    "best_accuracy=0.0\n",
    "for epoch in range(2):\n",
    "    \n",
    "    train_accuracy=0.0\n",
    "    test_accuracy=0.0\n",
    "    \n",
    "    model.train() \n",
    "    \n",
    "    for i,(image,label) in enumerate(train_loader):\n",
    "        image=image.to(device)\n",
    "        label=label.to(device)\n",
    "        \n",
    "        optimizer.zero_grad()\n",
    "        \n",
    "        output=model(image)\n",
    "        loss=loss_func(output,label)\n",
    "        loss.backward()\n",
    "        optimizer.step()\n",
    "        \n",
    "        _,prediction=torch.max(output.data,1)\n",
    "        \n",
    "        train_accuracy+=int(torch.sum(prediction==label.data))\n",
    "    \n",
    "    train_accuracy=(train_accuracy/train_count)\n",
    "    \n",
    "    model.eval()\n",
    "    \n",
    "    for i,(image,label) in enumerate(test_loader):\n",
    "        image=image.to(device)\n",
    "        label=label.to(device)\n",
    "        \n",
    "        optimizer.zero_grad()\n",
    "        \n",
    "        output=model(image)\n",
    "        \n",
    "        _,prediction=torch.max(output.data,1)\n",
    "        \n",
    "        test_accuracy+=int(torch.sum(prediction==label.data))\n",
    "    \n",
    "    test_accuracy=(test_accuracy/test_count)\n",
    "    \n",
    "    if test_accuracy>best_accuracy:\n",
    "        torch.save(model.state_dict(),'best_checkpoint.model')\n",
    "        best_accuracy=test_accuracy\n",
    "    \n",
    "    print(f'Epoch  {epoch+1}:   Train_accuracy:   {train_accuracy}     Test_accuracy:   {test_accuracy}'); "
   ]
  }
 ],
 "metadata": {
  "kernelspec": {
   "display_name": "Python 3",
   "language": "python",
   "name": "python3"
  },
  "language_info": {
   "codemirror_mode": {
    "name": "ipython",
    "version": 3
   },
   "file_extension": ".py",
   "mimetype": "text/x-python",
   "name": "python",
   "nbconvert_exporter": "python",
   "pygments_lexer": "ipython3",
   "version": "3.8.5"
  }
 },
 "nbformat": 4,
 "nbformat_minor": 4
}
